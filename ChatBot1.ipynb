{
  "nbformat": 4,
  "nbformat_minor": 0,
  "metadata": {
    "colab": {
      "name": "Untitled5.ipynb",
      "provenance": [],
      "authorship_tag": "ABX9TyNJpaqmNexdIAZh5PTtxTRJ",
      "include_colab_link": true
    },
    "kernelspec": {
      "name": "python3",
      "display_name": "Python 3"
    }
  },
  "cells": [
    {
      "cell_type": "markdown",
      "metadata": {
        "id": "view-in-github",
        "colab_type": "text"
      },
      "source": [
        "<a href=\"https://colab.research.google.com/github/roc-cyber/roc-cyber/blob/master/ChatBot1.ipynb\" target=\"_parent\"><img src=\"https://colab.research.google.com/assets/colab-badge.svg\" alt=\"Open In Colab\"/></a>"
      ]
    },
    {
      "cell_type": "code",
      "metadata": {
        "id": "9tn2pJYOz1x6",
        "colab_type": "code",
        "colab": {}
      },
      "source": [
        "import random\n"
      ],
      "execution_count": 0,
      "outputs": []
    },
    {
      "cell_type": "code",
      "metadata": {
        "id": "jw3t-2Siz7wW",
        "colab_type": "code",
        "colab": {}
      },
      "source": [
        "bot_template=\"BOT:{0}\"\n",
        "user_template=\"USER:{0}\""
      ],
      "execution_count": 0,
      "outputs": []
    },
    {
      "cell_type": "code",
      "metadata": {
        "id": "N50IwxzN0PNj",
        "colab_type": "code",
        "colab": {
          "base_uri": "https://localhost:8080/",
          "height": 34
        },
        "outputId": "8028040b-becf-452e-efb4-d5655f8c0080"
      },
      "source": [
        "def respond(msg):\n",
        "  bot_msg=\"I can hear u! you said:\" + msg\n",
        "  return bot_msg\n",
        "print(bot_template.format(respond(\"hello!\")))"
      ],
      "execution_count": 5,
      "outputs": [
        {
          "output_type": "stream",
          "text": [
            "BOT:I can hear u! you said:hello!\n"
          ],
          "name": "stdout"
        }
      ]
    },
    {
      "cell_type": "code",
      "metadata": {
        "id": "nrQ6iEte1DS7",
        "colab_type": "code",
        "colab": {
          "base_uri": "https://localhost:8080/",
          "height": 51
        },
        "outputId": "7f716172-037e-4813-d73b-89f7da5c4422"
      },
      "source": [
        "def send_message(msg):\n",
        "  print(user_template.format(msg))\n",
        "  response=respond(msg)\n",
        "  print(bot_template.format(response))\n",
        "send_message(\"hello!..\")"
      ],
      "execution_count": 6,
      "outputs": [
        {
          "output_type": "stream",
          "text": [
            "USER:hello!..\n",
            "BOT:I can hear u! you said:hello!..\n"
          ],
          "name": "stdout"
        }
      ]
    }
  ]
}